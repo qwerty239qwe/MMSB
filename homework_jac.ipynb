{
 "cells": [
  {
   "cell_type": "code",
   "execution_count": 3,
   "metadata": {
    "collapsed": false
   },
   "outputs": [
    {
     "name": "stdout",
     "output_type": "stream",
     "text": [
      "IPython console for SymPy 1.0 (Python 3.6.1-64-bit) (ground types: python)\n\nThese commands were executed:\n>>> from __future__ import division\n>>> from sympy import *\n>>> x, y, z, t = symbols('x y z t')\n>>> k, m, n = symbols('k m n', integer=True)\n>>> f, g, h = symbols('f g h', cls=Function)\n>>> init_printing()\n\nDocumentation can be found at http://docs.sympy.org/1.0/\n"
     ]
    },
    {
     "data": {
      "text/latex": [
       "$$- a c + a d x - b c y + \\lambda^{2} - \\lambda \\left(a - b y - c + d x\\right)$$"
      ],
      "text/plain": [
       "                        2                        \n-a⋅c + a⋅d⋅x - b⋅c⋅y + λ  - λ⋅(a - b⋅y - c + d⋅x)"
      ]
     },
     "metadata": {},
     "output_type": "display_data"
    }
   ],
   "source": [
    "from sympy import *\n",
    "\n",
    "init_session() \n",
    "\n",
    "lamd, a, b, c, d, x, y =  symbols(\"lambda a b c d x y\")\n",
    "\n",
    "func = lamd**2 - (a-c-b*y+d*x)*lamd+(-a*c+a*d*x-b*c*y)\n",
    "\n",
    "func"
   ]
  },
  {
   "cell_type": "code",
   "execution_count": 5,
   "metadata": {
    "collapsed": false
   },
   "outputs": [
    {
     "name": "stdout",
     "output_type": "stream",
     "text": [
      "When the network is in steady-state, lambdas equal to\n"
     ]
    },
    {
     "data": {
      "text/latex": [
       "$$- \\sqrt{a c}$$"
      ],
      "text/plain": [
       "   _____\n-╲╱ a⋅c "
      ]
     },
     "metadata": {},
     "output_type": "display_data"
    },
    {
     "data": {
      "text/latex": [
       "$$\\sqrt{a c}$$"
      ],
      "text/plain": [
       "  _____\n╲╱ a⋅c "
      ]
     },
     "metadata": {},
     "output_type": "display_data"
    }
   ],
   "source": [
    "from IPython.display import display\n",
    "init_printing(use_latex='mathjax')\n",
    "\n",
    "print(\"When the network is in steady-state, lambdas equal to\")\n",
    "display(solve(func,lamd)[0].subs(x,(c/d)).subs(y,(a/b)))\n",
    "display(solve(func,lamd)[1].subs(x,(c/d)).subs(y,(a/b)))\n"
   ]
  },
  {
   "cell_type": "code",
   "execution_count": null,
   "metadata": {},
   "outputs": [],
   "source": []
  }
 ],
 "metadata": {
  "kernelspec": {
   "display_name": "Python 2",
   "language": "python",
   "name": "python2"
  },
  "language_info": {
   "codemirror_mode": {
    "name": "ipython",
    "version": 2
   },
   "file_extension": ".py",
   "mimetype": "text/x-python",
   "name": "python",
   "nbconvert_exporter": "python",
   "pygments_lexer": "ipython2",
   "version": "2.7.6"
  }
 },
 "nbformat": 4,
 "nbformat_minor": 0
}
